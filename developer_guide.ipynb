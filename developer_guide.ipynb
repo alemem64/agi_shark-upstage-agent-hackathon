{
 "cells": [
  {
   "cell_type": "markdown",
   "metadata": {
    "vscode": {
     "languageId": "plaintext"
    }
   },
   "source": [
    "# 0. Setup."
   ]
  },
  {
   "cell_type": "code",
   "execution_count": 1,
   "metadata": {},
   "outputs": [
    {
     "name": "stdout",
     "output_type": "stream",
     "text": [
      "Requirement already satisfied: streamlit>=1.44.0 in /opt/anaconda3/lib/python3.12/site-packages (from -r requirements.txt (line 1)) (1.44.0)\n",
      "Requirement already satisfied: watchdog in /opt/anaconda3/lib/python3.12/site-packages (from -r requirements.txt (line 2)) (4.0.1)\n",
      "Requirement already satisfied: anthropic in /opt/anaconda3/lib/python3.12/site-packages (from -r requirements.txt (line 3)) (0.49.0)\n",
      "Requirement already satisfied: webdriver-manager in /opt/anaconda3/lib/python3.12/site-packages (from -r requirements.txt (line 5)) (4.0.2)\n",
      "Requirement already satisfied: html5lib in /opt/anaconda3/lib/python3.12/site-packages (from -r requirements.txt (line 6)) (1.1)\n",
      "Requirement already satisfied: playwright in /opt/anaconda3/lib/python3.12/site-packages (from -r requirements.txt (line 7)) (1.51.0)\n",
      "Requirement already satisfied: nest_asyncio in /opt/anaconda3/lib/python3.12/site-packages (from -r requirements.txt (line 8)) (1.6.0)\n",
      "Requirement already satisfied: pyupbit in /opt/anaconda3/lib/python3.12/site-packages (from -r requirements.txt (line 9)) (0.2.34)\n",
      "Requirement already satisfied: PyMuPDF in /opt/anaconda3/lib/python3.12/site-packages (from -r requirements.txt (line 10)) (1.25.5)\n",
      "Requirement already satisfied: Pillow in /opt/anaconda3/lib/python3.12/site-packages (from -r requirements.txt (line 11)) (10.4.0)\n",
      "Collecting python-docx (from -r requirements.txt (line 12))\n",
      "  Downloading python_docx-1.1.2-py3-none-any.whl.metadata (2.0 kB)\n",
      "Requirement already satisfied: altair<6,>=4.0 in /opt/anaconda3/lib/python3.12/site-packages (from streamlit>=1.44.0->-r requirements.txt (line 1)) (5.0.1)\n",
      "Requirement already satisfied: blinker<2,>=1.0.0 in /opt/anaconda3/lib/python3.12/site-packages (from streamlit>=1.44.0->-r requirements.txt (line 1)) (1.6.2)\n",
      "Requirement already satisfied: cachetools<6,>=4.0 in /opt/anaconda3/lib/python3.12/site-packages (from streamlit>=1.44.0->-r requirements.txt (line 1)) (5.3.3)\n",
      "Requirement already satisfied: click<9,>=7.0 in /opt/anaconda3/lib/python3.12/site-packages (from streamlit>=1.44.0->-r requirements.txt (line 1)) (8.1.7)\n",
      "Requirement already satisfied: numpy<3,>=1.23 in /opt/anaconda3/lib/python3.12/site-packages (from streamlit>=1.44.0->-r requirements.txt (line 1)) (1.26.4)\n",
      "Requirement already satisfied: packaging<25,>=20 in /opt/anaconda3/lib/python3.12/site-packages (from streamlit>=1.44.0->-r requirements.txt (line 1)) (24.1)\n",
      "Requirement already satisfied: pandas<3,>=1.4.0 in /opt/anaconda3/lib/python3.12/site-packages (from streamlit>=1.44.0->-r requirements.txt (line 1)) (2.2.2)\n",
      "Requirement already satisfied: protobuf<6,>=3.20 in /opt/anaconda3/lib/python3.12/site-packages (from streamlit>=1.44.0->-r requirements.txt (line 1)) (4.25.3)\n",
      "Requirement already satisfied: pyarrow>=7.0 in /opt/anaconda3/lib/python3.12/site-packages (from streamlit>=1.44.0->-r requirements.txt (line 1)) (16.1.0)\n",
      "Requirement already satisfied: requests<3,>=2.27 in /opt/anaconda3/lib/python3.12/site-packages (from streamlit>=1.44.0->-r requirements.txt (line 1)) (2.32.3)\n",
      "Requirement already satisfied: tenacity<10,>=8.1.0 in /opt/anaconda3/lib/python3.12/site-packages (from streamlit>=1.44.0->-r requirements.txt (line 1)) (8.2.3)\n",
      "Requirement already satisfied: toml<2,>=0.10.1 in /opt/anaconda3/lib/python3.12/site-packages (from streamlit>=1.44.0->-r requirements.txt (line 1)) (0.10.2)\n",
      "Requirement already satisfied: typing-extensions<5,>=4.4.0 in /opt/anaconda3/lib/python3.12/site-packages (from streamlit>=1.44.0->-r requirements.txt (line 1)) (4.11.0)\n",
      "Requirement already satisfied: gitpython!=3.1.19,<4,>=3.0.7 in /opt/anaconda3/lib/python3.12/site-packages (from streamlit>=1.44.0->-r requirements.txt (line 1)) (3.1.43)\n",
      "Requirement already satisfied: pydeck<1,>=0.8.0b4 in /opt/anaconda3/lib/python3.12/site-packages (from streamlit>=1.44.0->-r requirements.txt (line 1)) (0.8.0)\n",
      "Requirement already satisfied: tornado<7,>=6.0.3 in /opt/anaconda3/lib/python3.12/site-packages (from streamlit>=1.44.0->-r requirements.txt (line 1)) (6.4.1)\n",
      "Requirement already satisfied: anyio<5,>=3.5.0 in /opt/anaconda3/lib/python3.12/site-packages (from anthropic->-r requirements.txt (line 3)) (4.2.0)\n",
      "Requirement already satisfied: distro<2,>=1.7.0 in /opt/anaconda3/lib/python3.12/site-packages (from anthropic->-r requirements.txt (line 3)) (1.9.0)\n",
      "Requirement already satisfied: httpx<1,>=0.23.0 in /opt/anaconda3/lib/python3.12/site-packages (from anthropic->-r requirements.txt (line 3)) (0.27.0)\n",
      "Requirement already satisfied: jiter<1,>=0.4.0 in /opt/anaconda3/lib/python3.12/site-packages (from anthropic->-r requirements.txt (line 3)) (0.9.0)\n",
      "Requirement already satisfied: pydantic<3,>=1.9.0 in /opt/anaconda3/lib/python3.12/site-packages (from anthropic->-r requirements.txt (line 3)) (2.8.2)\n",
      "Requirement already satisfied: sniffio in /opt/anaconda3/lib/python3.12/site-packages (from anthropic->-r requirements.txt (line 3)) (1.3.0)\n",
      "Requirement already satisfied: python-dotenv in /opt/anaconda3/lib/python3.12/site-packages (from webdriver-manager->-r requirements.txt (line 5)) (0.21.0)\n",
      "Requirement already satisfied: six>=1.9 in /opt/anaconda3/lib/python3.12/site-packages (from html5lib->-r requirements.txt (line 6)) (1.16.0)\n",
      "Requirement already satisfied: webencodings in /opt/anaconda3/lib/python3.12/site-packages (from html5lib->-r requirements.txt (line 6)) (0.5.1)\n",
      "Requirement already satisfied: pyee<13,>=12 in /opt/anaconda3/lib/python3.12/site-packages (from playwright->-r requirements.txt (line 7)) (12.1.1)\n",
      "Requirement already satisfied: greenlet<4.0.0,>=3.1.1 in /opt/anaconda3/lib/python3.12/site-packages (from playwright->-r requirements.txt (line 7)) (3.1.1)\n",
      "Requirement already satisfied: pyjwt>=2.0.0 in /opt/anaconda3/lib/python3.12/site-packages (from pyupbit->-r requirements.txt (line 9)) (2.8.0)\n",
      "Requirement already satisfied: websockets in /opt/anaconda3/lib/python3.12/site-packages (from pyupbit->-r requirements.txt (line 9)) (15.0.1)\n",
      "Requirement already satisfied: lxml>=3.1.0 in /opt/anaconda3/lib/python3.12/site-packages (from python-docx->-r requirements.txt (line 12)) (5.2.1)\n",
      "Requirement already satisfied: jinja2 in /opt/anaconda3/lib/python3.12/site-packages (from altair<6,>=4.0->streamlit>=1.44.0->-r requirements.txt (line 1)) (3.1.4)\n",
      "Requirement already satisfied: jsonschema>=3.0 in /opt/anaconda3/lib/python3.12/site-packages (from altair<6,>=4.0->streamlit>=1.44.0->-r requirements.txt (line 1)) (4.23.0)\n",
      "Requirement already satisfied: toolz in /opt/anaconda3/lib/python3.12/site-packages (from altair<6,>=4.0->streamlit>=1.44.0->-r requirements.txt (line 1)) (0.12.0)\n",
      "Requirement already satisfied: idna>=2.8 in /opt/anaconda3/lib/python3.12/site-packages (from anyio<5,>=3.5.0->anthropic->-r requirements.txt (line 3)) (3.7)\n",
      "Requirement already satisfied: gitdb<5,>=4.0.1 in /opt/anaconda3/lib/python3.12/site-packages (from gitpython!=3.1.19,<4,>=3.0.7->streamlit>=1.44.0->-r requirements.txt (line 1)) (4.0.7)\n",
      "Requirement already satisfied: certifi in /opt/anaconda3/lib/python3.12/site-packages (from httpx<1,>=0.23.0->anthropic->-r requirements.txt (line 3)) (2024.8.30)\n",
      "Requirement already satisfied: httpcore==1.* in /opt/anaconda3/lib/python3.12/site-packages (from httpx<1,>=0.23.0->anthropic->-r requirements.txt (line 3)) (1.0.2)\n",
      "Requirement already satisfied: h11<0.15,>=0.13 in /opt/anaconda3/lib/python3.12/site-packages (from httpcore==1.*->httpx<1,>=0.23.0->anthropic->-r requirements.txt (line 3)) (0.14.0)\n",
      "Requirement already satisfied: python-dateutil>=2.8.2 in /opt/anaconda3/lib/python3.12/site-packages (from pandas<3,>=1.4.0->streamlit>=1.44.0->-r requirements.txt (line 1)) (2.9.0.post0)\n",
      "Requirement already satisfied: pytz>=2020.1 in /opt/anaconda3/lib/python3.12/site-packages (from pandas<3,>=1.4.0->streamlit>=1.44.0->-r requirements.txt (line 1)) (2024.1)\n",
      "Requirement already satisfied: tzdata>=2022.7 in /opt/anaconda3/lib/python3.12/site-packages (from pandas<3,>=1.4.0->streamlit>=1.44.0->-r requirements.txt (line 1)) (2023.3)\n",
      "Requirement already satisfied: annotated-types>=0.4.0 in /opt/anaconda3/lib/python3.12/site-packages (from pydantic<3,>=1.9.0->anthropic->-r requirements.txt (line 3)) (0.6.0)\n",
      "Requirement already satisfied: pydantic-core==2.20.1 in /opt/anaconda3/lib/python3.12/site-packages (from pydantic<3,>=1.9.0->anthropic->-r requirements.txt (line 3)) (2.20.1)\n",
      "Requirement already satisfied: charset-normalizer<4,>=2 in /opt/anaconda3/lib/python3.12/site-packages (from requests<3,>=2.27->streamlit>=1.44.0->-r requirements.txt (line 1)) (3.3.2)\n",
      "Requirement already satisfied: urllib3<3,>=1.21.1 in /opt/anaconda3/lib/python3.12/site-packages (from requests<3,>=2.27->streamlit>=1.44.0->-r requirements.txt (line 1)) (2.2.3)\n",
      "Requirement already satisfied: smmap<5,>=3.0.1 in /opt/anaconda3/lib/python3.12/site-packages (from gitdb<5,>=4.0.1->gitpython!=3.1.19,<4,>=3.0.7->streamlit>=1.44.0->-r requirements.txt (line 1)) (4.0.0)\n",
      "Requirement already satisfied: MarkupSafe>=2.0 in /opt/anaconda3/lib/python3.12/site-packages (from jinja2->altair<6,>=4.0->streamlit>=1.44.0->-r requirements.txt (line 1)) (2.1.3)\n",
      "Requirement already satisfied: attrs>=22.2.0 in /opt/anaconda3/lib/python3.12/site-packages (from jsonschema>=3.0->altair<6,>=4.0->streamlit>=1.44.0->-r requirements.txt (line 1)) (25.3.0)\n",
      "Requirement already satisfied: jsonschema-specifications>=2023.03.6 in /opt/anaconda3/lib/python3.12/site-packages (from jsonschema>=3.0->altair<6,>=4.0->streamlit>=1.44.0->-r requirements.txt (line 1)) (2023.7.1)\n",
      "Requirement already satisfied: referencing>=0.28.4 in /opt/anaconda3/lib/python3.12/site-packages (from jsonschema>=3.0->altair<6,>=4.0->streamlit>=1.44.0->-r requirements.txt (line 1)) (0.30.2)\n",
      "Requirement already satisfied: rpds-py>=0.7.1 in /opt/anaconda3/lib/python3.12/site-packages (from jsonschema>=3.0->altair<6,>=4.0->streamlit>=1.44.0->-r requirements.txt (line 1)) (0.10.6)\n",
      "Downloading python_docx-1.1.2-py3-none-any.whl (244 kB)\n",
      "Installing collected packages: python-docx\n",
      "Successfully installed python-docx-1.1.2\n"
     ]
    }
   ],
   "source": [
    "!pip install -r requirements.txt"
   ]
  },
  {
   "cell_type": "markdown",
   "metadata": {
    "vscode": {
     "languageId": "plaintext"
    }
   },
   "source": [
    "# 1. Run App"
   ]
  },
  {
   "cell_type": "markdown",
   "metadata": {},
   "source": [
    "Run below code in your terminal"
   ]
  },
  {
   "cell_type": "code",
   "execution_count": 2,
   "metadata": {},
   "outputs": [
    {
     "ename": "SyntaxError",
     "evalue": "invalid syntax (1524764032.py, line 1)",
     "output_type": "error",
     "traceback": [
      "\u001b[0;36m  Cell \u001b[0;32mIn[2], line 1\u001b[0;36m\u001b[0m\n\u001b[0;31m    conda activate base\u001b[0m\n\u001b[0m          ^\u001b[0m\n\u001b[0;31mSyntaxError\u001b[0m\u001b[0;31m:\u001b[0m invalid syntax\n"
     ]
    }
   ],
   "source": [
    "conda activate base\n",
    "streamlit run app.py"
   ]
  }
 ],
 "metadata": {
  "kernelspec": {
   "display_name": "base",
   "language": "python",
   "name": "python3"
  },
  "language_info": {
   "codemirror_mode": {
    "name": "ipython",
    "version": 3
   },
   "file_extension": ".py",
   "mimetype": "text/x-python",
   "name": "python",
   "nbconvert_exporter": "python",
   "pygments_lexer": "ipython3",
   "version": "3.12.7"
  }
 },
 "nbformat": 4,
 "nbformat_minor": 2
}
