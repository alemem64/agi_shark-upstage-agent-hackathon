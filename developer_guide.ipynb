{
 "cells": [
  {
   "cell_type": "markdown",
   "metadata": {
    "vscode": {
     "languageId": "plaintext"
    }
   },
   "source": [
    "# 0. Setup."
   ]
  },
  {
   "cell_type": "code",
   "execution_count": 5,
   "metadata": {},
   "outputs": [
    {
     "name": "stdout",
     "output_type": "stream",
     "text": [
      "Requirement already satisfied: streamlit>=1.44.0 in c:\\users\\cha\\appdata\\local\\programs\\python\\python312\\lib\\site-packages (from -r requirements.txt (line 1)) (1.44.0)\n",
      "Requirement already satisfied: watchdog in c:\\users\\cha\\appdata\\local\\programs\\python\\python312\\lib\\site-packages (from -r requirements.txt (line 2)) (6.0.0)\n",
      "Requirement already satisfied: anthropic in c:\\users\\cha\\appdata\\local\\programs\\python\\python312\\lib\\site-packages (from -r requirements.txt (line 3)) (0.49.0)\n",
      "Requirement already satisfied: webdriver-manager in c:\\users\\cha\\appdata\\local\\programs\\python\\python312\\lib\\site-packages (from -r requirements.txt (line 5)) (4.0.2)\n",
      "Requirement already satisfied: html5lib in c:\\users\\cha\\appdata\\local\\programs\\python\\python312\\lib\\site-packages (from -r requirements.txt (line 6)) (1.1)\n",
      "Requirement already satisfied: playwright in c:\\users\\cha\\appdata\\local\\programs\\python\\python312\\lib\\site-packages (from -r requirements.txt (line 7)) (1.51.0)\n",
      "Requirement already satisfied: nest_asyncio in c:\\users\\cha\\appdata\\roaming\\python\\python312\\site-packages (from -r requirements.txt (line 8)) (1.6.0)\n",
      "Requirement already satisfied: pyupbit in c:\\users\\cha\\appdata\\local\\programs\\python\\python312\\lib\\site-packages (from -r requirements.txt (line 9)) (0.2.34)\n",
      "Collecting PyMuPDF (from -r requirements.txt (line 10))\n",
      "  Downloading pymupdf-1.25.5-cp39-abi3-win_amd64.whl.metadata (3.4 kB)\n",
      "Requirement already satisfied: Pillow in c:\\users\\cha\\appdata\\local\\programs\\python\\python312\\lib\\site-packages (from -r requirements.txt (line 11)) (10.4.0)\n",
      "Requirement already satisfied: altair<6,>=4.0 in c:\\users\\cha\\appdata\\local\\programs\\python\\python312\\lib\\site-packages (from streamlit>=1.44.0->-r requirements.txt (line 1)) (5.5.0)\n",
      "Requirement already satisfied: blinker<2,>=1.0.0 in c:\\users\\cha\\appdata\\local\\programs\\python\\python312\\lib\\site-packages (from streamlit>=1.44.0->-r requirements.txt (line 1)) (1.9.0)\n",
      "Requirement already satisfied: cachetools<6,>=4.0 in c:\\users\\cha\\appdata\\local\\programs\\python\\python312\\lib\\site-packages (from streamlit>=1.44.0->-r requirements.txt (line 1)) (5.5.2)\n",
      "Requirement already satisfied: click<9,>=7.0 in c:\\users\\cha\\appdata\\local\\programs\\python\\python312\\lib\\site-packages (from streamlit>=1.44.0->-r requirements.txt (line 1)) (8.1.7)\n",
      "Requirement already satisfied: numpy<3,>=1.23 in c:\\users\\cha\\appdata\\local\\programs\\python\\python312\\lib\\site-packages (from streamlit>=1.44.0->-r requirements.txt (line 1)) (2.0.2)\n",
      "Requirement already satisfied: packaging<25,>=20 in c:\\users\\cha\\appdata\\roaming\\python\\python312\\site-packages (from streamlit>=1.44.0->-r requirements.txt (line 1)) (24.1)\n",
      "Requirement already satisfied: pandas<3,>=1.4.0 in c:\\users\\cha\\appdata\\local\\programs\\python\\python312\\lib\\site-packages (from streamlit>=1.44.0->-r requirements.txt (line 1)) (2.2.3)\n",
      "Requirement already satisfied: protobuf<6,>=3.20 in c:\\users\\cha\\appdata\\local\\programs\\python\\python312\\lib\\site-packages (from streamlit>=1.44.0->-r requirements.txt (line 1)) (5.29.4)\n",
      "Requirement already satisfied: pyarrow>=7.0 in c:\\users\\cha\\appdata\\local\\programs\\python\\python312\\lib\\site-packages (from streamlit>=1.44.0->-r requirements.txt (line 1)) (19.0.1)\n",
      "Requirement already satisfied: requests<3,>=2.27 in c:\\users\\cha\\appdata\\local\\programs\\python\\python312\\lib\\site-packages (from streamlit>=1.44.0->-r requirements.txt (line 1)) (2.32.3)\n",
      "Requirement already satisfied: tenacity<10,>=8.1.0 in c:\\users\\cha\\appdata\\local\\programs\\python\\python312\\lib\\site-packages (from streamlit>=1.44.0->-r requirements.txt (line 1)) (9.0.0)\n",
      "Requirement already satisfied: toml<2,>=0.10.1 in c:\\users\\cha\\appdata\\local\\programs\\python\\python312\\lib\\site-packages (from streamlit>=1.44.0->-r requirements.txt (line 1)) (0.10.2)\n",
      "Requirement already satisfied: typing-extensions<5,>=4.4.0 in c:\\users\\cha\\appdata\\local\\programs\\python\\python312\\lib\\site-packages (from streamlit>=1.44.0->-r requirements.txt (line 1)) (4.12.2)\n",
      "Requirement already satisfied: gitpython!=3.1.19,<4,>=3.0.7 in c:\\users\\cha\\appdata\\local\\programs\\python\\python312\\lib\\site-packages (from streamlit>=1.44.0->-r requirements.txt (line 1)) (3.1.44)\n",
      "Requirement already satisfied: pydeck<1,>=0.8.0b4 in c:\\users\\cha\\appdata\\local\\programs\\python\\python312\\lib\\site-packages (from streamlit>=1.44.0->-r requirements.txt (line 1)) (0.9.1)\n",
      "Requirement already satisfied: tornado<7,>=6.0.3 in c:\\users\\cha\\appdata\\roaming\\python\\python312\\site-packages (from streamlit>=1.44.0->-r requirements.txt (line 1)) (6.4.1)\n",
      "Requirement already satisfied: anyio<5,>=3.5.0 in c:\\users\\cha\\appdata\\local\\programs\\python\\python312\\lib\\site-packages (from anthropic->-r requirements.txt (line 3)) (4.9.0)\n",
      "Requirement already satisfied: distro<2,>=1.7.0 in c:\\users\\cha\\appdata\\local\\programs\\python\\python312\\lib\\site-packages (from anthropic->-r requirements.txt (line 3)) (1.9.0)\n",
      "Requirement already satisfied: httpx<1,>=0.23.0 in c:\\users\\cha\\appdata\\local\\programs\\python\\python312\\lib\\site-packages (from anthropic->-r requirements.txt (line 3)) (0.28.1)\n",
      "Requirement already satisfied: jiter<1,>=0.4.0 in c:\\users\\cha\\appdata\\local\\programs\\python\\python312\\lib\\site-packages (from anthropic->-r requirements.txt (line 3)) (0.9.0)\n",
      "Requirement already satisfied: pydantic<3,>=1.9.0 in c:\\users\\cha\\appdata\\local\\programs\\python\\python312\\lib\\site-packages (from anthropic->-r requirements.txt (line 3)) (2.9.2)\n",
      "Requirement already satisfied: sniffio in c:\\users\\cha\\appdata\\local\\programs\\python\\python312\\lib\\site-packages (from anthropic->-r requirements.txt (line 3)) (1.3.1)\n",
      "Requirement already satisfied: python-dotenv in c:\\users\\cha\\appdata\\local\\programs\\python\\python312\\lib\\site-packages (from webdriver-manager->-r requirements.txt (line 5)) (1.1.0)\n",
      "Requirement already satisfied: six>=1.9 in c:\\users\\cha\\appdata\\roaming\\python\\python312\\site-packages (from html5lib->-r requirements.txt (line 6)) (1.16.0)\n",
      "Requirement already satisfied: webencodings in c:\\users\\cha\\appdata\\local\\programs\\python\\python312\\lib\\site-packages (from html5lib->-r requirements.txt (line 6)) (0.5.1)\n",
      "Requirement already satisfied: pyee<13,>=12 in c:\\users\\cha\\appdata\\local\\programs\\python\\python312\\lib\\site-packages (from playwright->-r requirements.txt (line 7)) (12.1.1)\n",
      "Requirement already satisfied: greenlet<4.0.0,>=3.1.1 in c:\\users\\cha\\appdata\\local\\programs\\python\\python312\\lib\\site-packages (from playwright->-r requirements.txt (line 7)) (3.1.1)\n",
      "Requirement already satisfied: pyjwt>=2.0.0 in c:\\users\\cha\\appdata\\local\\programs\\python\\python312\\lib\\site-packages (from pyupbit->-r requirements.txt (line 9)) (2.10.1)\n",
      "Requirement already satisfied: websockets in c:\\users\\cha\\appdata\\local\\programs\\python\\python312\\lib\\site-packages (from pyupbit->-r requirements.txt (line 9)) (15.0.1)\n",
      "Requirement already satisfied: jinja2 in c:\\users\\cha\\appdata\\local\\programs\\python\\python312\\lib\\site-packages (from altair<6,>=4.0->streamlit>=1.44.0->-r requirements.txt (line 1)) (3.1.4)\n",
      "Requirement already satisfied: jsonschema>=3.0 in c:\\users\\cha\\appdata\\local\\programs\\python\\python312\\lib\\site-packages (from altair<6,>=4.0->streamlit>=1.44.0->-r requirements.txt (line 1)) (4.23.0)\n",
      "Requirement already satisfied: narwhals>=1.14.2 in c:\\users\\cha\\appdata\\local\\programs\\python\\python312\\lib\\site-packages (from altair<6,>=4.0->streamlit>=1.44.0->-r requirements.txt (line 1)) (1.32.0)\n",
      "Requirement already satisfied: idna>=2.8 in c:\\users\\cha\\appdata\\local\\programs\\python\\python312\\lib\\site-packages (from anyio<5,>=3.5.0->anthropic->-r requirements.txt (line 3)) (2.10)\n",
      "Requirement already satisfied: colorama in c:\\users\\cha\\appdata\\roaming\\python\\python312\\site-packages (from click<9,>=7.0->streamlit>=1.44.0->-r requirements.txt (line 1)) (0.4.6)\n",
      "Requirement already satisfied: gitdb<5,>=4.0.1 in c:\\users\\cha\\appdata\\local\\programs\\python\\python312\\lib\\site-packages (from gitpython!=3.1.19,<4,>=3.0.7->streamlit>=1.44.0->-r requirements.txt (line 1)) (4.0.12)\n",
      "Requirement already satisfied: certifi in c:\\users\\cha\\appdata\\local\\programs\\python\\python312\\lib\\site-packages (from httpx<1,>=0.23.0->anthropic->-r requirements.txt (line 3)) (2024.6.2)\n",
      "Requirement already satisfied: httpcore==1.* in c:\\users\\cha\\appdata\\local\\programs\\python\\python312\\lib\\site-packages (from httpx<1,>=0.23.0->anthropic->-r requirements.txt (line 3)) (1.0.7)\n",
      "Requirement already satisfied: h11<0.15,>=0.13 in c:\\users\\cha\\appdata\\local\\programs\\python\\python312\\lib\\site-packages (from httpcore==1.*->httpx<1,>=0.23.0->anthropic->-r requirements.txt (line 3)) (0.14.0)\n",
      "Requirement already satisfied: python-dateutil>=2.8.2 in c:\\users\\cha\\appdata\\roaming\\python\\python312\\site-packages (from pandas<3,>=1.4.0->streamlit>=1.44.0->-r requirements.txt (line 1)) (2.9.0.post0)\n",
      "Requirement already satisfied: pytz>=2020.1 in c:\\users\\cha\\appdata\\local\\programs\\python\\python312\\lib\\site-packages (from pandas<3,>=1.4.0->streamlit>=1.44.0->-r requirements.txt (line 1)) (2025.1)\n",
      "Requirement already satisfied: tzdata>=2022.7 in c:\\users\\cha\\appdata\\local\\programs\\python\\python312\\lib\\site-packages (from pandas<3,>=1.4.0->streamlit>=1.44.0->-r requirements.txt (line 1)) (2025.1)\n",
      "Requirement already satisfied: annotated-types>=0.6.0 in c:\\users\\cha\\appdata\\local\\programs\\python\\python312\\lib\\site-packages (from pydantic<3,>=1.9.0->anthropic->-r requirements.txt (line 3)) (0.7.0)\n",
      "Requirement already satisfied: pydantic-core==2.23.4 in c:\\users\\cha\\appdata\\local\\programs\\python\\python312\\lib\\site-packages (from pydantic<3,>=1.9.0->anthropic->-r requirements.txt (line 3)) (2.23.4)\n",
      "Requirement already satisfied: charset-normalizer<4,>=2 in c:\\users\\cha\\appdata\\local\\programs\\python\\python312\\lib\\site-packages (from requests<3,>=2.27->streamlit>=1.44.0->-r requirements.txt (line 1)) (3.3.2)\n",
      "Requirement already satisfied: urllib3<3,>=1.21.1 in c:\\users\\cha\\appdata\\local\\programs\\python\\python312\\lib\\site-packages (from requests<3,>=2.27->streamlit>=1.44.0->-r requirements.txt (line 1)) (2.2.2)\n",
      "Requirement already satisfied: smmap<6,>=3.0.1 in c:\\users\\cha\\appdata\\local\\programs\\python\\python312\\lib\\site-packages (from gitdb<5,>=4.0.1->gitpython!=3.1.19,<4,>=3.0.7->streamlit>=1.44.0->-r requirements.txt (line 1)) (5.0.2)\n",
      "Requirement already satisfied: MarkupSafe>=2.0 in c:\\users\\cha\\appdata\\local\\programs\\python\\python312\\lib\\site-packages (from jinja2->altair<6,>=4.0->streamlit>=1.44.0->-r requirements.txt (line 1)) (3.0.1)\n",
      "Requirement already satisfied: attrs>=22.2.0 in c:\\users\\cha\\appdata\\local\\programs\\python\\python312\\lib\\site-packages (from jsonschema>=3.0->altair<6,>=4.0->streamlit>=1.44.0->-r requirements.txt (line 1)) (23.2.0)\n",
      "Requirement already satisfied: jsonschema-specifications>=2023.03.6 in c:\\users\\cha\\appdata\\local\\programs\\python\\python312\\lib\\site-packages (from jsonschema>=3.0->altair<6,>=4.0->streamlit>=1.44.0->-r requirements.txt (line 1)) (2024.10.1)\n",
      "Requirement already satisfied: referencing>=0.28.4 in c:\\users\\cha\\appdata\\local\\programs\\python\\python312\\lib\\site-packages (from jsonschema>=3.0->altair<6,>=4.0->streamlit>=1.44.0->-r requirements.txt (line 1)) (0.36.2)\n",
      "Requirement already satisfied: rpds-py>=0.7.1 in c:\\users\\cha\\appdata\\local\\programs\\python\\python312\\lib\\site-packages (from jsonschema>=3.0->altair<6,>=4.0->streamlit>=1.44.0->-r requirements.txt (line 1)) (0.24.0)\n",
      "Downloading pymupdf-1.25.5-cp39-abi3-win_amd64.whl (16.6 MB)\n",
      "   ---------------------------------------- 0.0/16.6 MB ? eta -:--:--\n",
      "   - -------------------------------------- 0.5/16.6 MB 3.4 MB/s eta 0:00:05\n",
      "   -- ------------------------------------- 1.0/16.6 MB 3.0 MB/s eta 0:00:06\n",
      "   ---- ----------------------------------- 1.8/16.6 MB 3.0 MB/s eta 0:00:05\n",
      "   ----- ---------------------------------- 2.4/16.6 MB 3.0 MB/s eta 0:00:05\n",
      "   ------ --------------------------------- 2.9/16.6 MB 3.0 MB/s eta 0:00:05\n",
      "   -------- ------------------------------- 3.7/16.6 MB 3.0 MB/s eta 0:00:05\n",
      "   ---------- ----------------------------- 4.2/16.6 MB 3.0 MB/s eta 0:00:05\n",
      "   ------------ --------------------------- 5.0/16.6 MB 3.0 MB/s eta 0:00:04\n",
      "   ------------- -------------------------- 5.5/16.6 MB 3.0 MB/s eta 0:00:04\n",
      "   -------------- ------------------------- 6.0/16.6 MB 3.0 MB/s eta 0:00:04\n",
      "   ---------------- ----------------------- 6.8/16.6 MB 3.0 MB/s eta 0:00:04\n",
      "   ----------------- ---------------------- 7.3/16.6 MB 3.0 MB/s eta 0:00:04\n",
      "   ------------------- -------------------- 8.1/16.6 MB 3.0 MB/s eta 0:00:03\n",
      "   ------------------- -------------------- 8.1/16.6 MB 3.0 MB/s eta 0:00:03\n",
      "   -------------------- ------------------- 8.4/16.6 MB 2.8 MB/s eta 0:00:03\n",
      "   ---------------------- ----------------- 9.4/16.6 MB 2.8 MB/s eta 0:00:03\n",
      "   ------------------------ --------------- 10.2/16.6 MB 2.9 MB/s eta 0:00:03\n",
      "   -------------------------- ------------- 11.0/16.6 MB 2.9 MB/s eta 0:00:02\n",
      "   --------------------------- ------------ 11.5/16.6 MB 2.9 MB/s eta 0:00:02\n",
      "   ----------------------------- ---------- 12.3/16.6 MB 2.9 MB/s eta 0:00:02\n",
      "   ------------------------------ --------- 12.8/16.6 MB 2.9 MB/s eta 0:00:02\n",
      "   -------------------------------- ------- 13.4/16.6 MB 2.9 MB/s eta 0:00:02\n",
      "   ---------------------------------- ----- 14.2/16.6 MB 2.9 MB/s eta 0:00:01\n",
      "   ----------------------------------- ---- 14.7/16.6 MB 2.9 MB/s eta 0:00:01\n",
      "   ------------------------------------- -- 15.5/16.6 MB 2.9 MB/s eta 0:00:01\n",
      "   -------------------------------------- - 16.0/16.6 MB 2.9 MB/s eta 0:00:01\n",
      "   ---------------------------------------- 16.6/16.6 MB 2.9 MB/s eta 0:00:00\n",
      "Installing collected packages: PyMuPDF\n",
      "Successfully installed PyMuPDF-1.25.5\n"
     ]
    },
    {
     "name": "stderr",
     "output_type": "stream",
     "text": [
      "\n",
      "[notice] A new release of pip is available: 24.2 -> 25.0.1\n",
      "[notice] To update, run: python.exe -m pip install --upgrade pip\n"
     ]
    }
   ],
   "source": [
    "!pip install -r requirements.txt"
   ]
  },
  {
   "cell_type": "markdown",
   "metadata": {
    "vscode": {
     "languageId": "plaintext"
    }
   },
   "source": [
    "# 1. Run App"
   ]
  },
  {
   "cell_type": "markdown",
   "metadata": {},
   "source": [
    "Run below code in your terminal"
   ]
  },
  {
   "cell_type": "code",
   "execution_count": null,
   "metadata": {},
   "outputs": [],
   "source": [
    "conda activate base\n",
    "streamlit run app.py"
   ]
  }
 ],
 "metadata": {
  "kernelspec": {
   "display_name": "base",
   "language": "python",
   "name": "python3"
  },
  "language_info": {
   "codemirror_mode": {
    "name": "ipython",
    "version": 3
   },
   "file_extension": ".py",
   "mimetype": "text/x-python",
   "name": "python",
   "nbconvert_exporter": "python",
   "pygments_lexer": "ipython3",
   "version": "3.12.7"
  }
 },
 "nbformat": 4,
 "nbformat_minor": 2
}
