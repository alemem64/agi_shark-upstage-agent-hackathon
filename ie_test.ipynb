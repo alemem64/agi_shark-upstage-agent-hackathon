{
 "cells": [
  {
   "cell_type": "code",
   "execution_count": 7,
   "metadata": {},
   "outputs": [
    {
     "name": "stdout",
     "output_type": "stream",
     "text": [
      "{\"current_cost\":\"31,650\"}\n"
     ]
    }
   ],
   "source": [
    "# pip install openai\n",
    "import base64\n",
    "import json\n",
    "from openai import OpenAI\n",
    " \n",
    "client = OpenAI(\n",
    "    api_key=\"up_IANAGmcf5Z0MK40wgyiNBYJAlFMTe\",\n",
    "    base_url=\"https://api.upstage.ai/v1/information-extraction\"\n",
    ")\n",
    " \n",
    "def encode_img_to_base64(img_path):\n",
    "    with open(img_path, 'rb') as img_file:\n",
    "        img_bytes = img_file.read()\n",
    "        base64_data = base64.b64encode(img_bytes).decode('utf-8')\n",
    "        return base64_data\n",
    " \n",
    "img_path = \"document1.png\"\n",
    "base64_data = encode_img_to_base64(img_path)\n",
    " \n",
    "extraction_response = client.chat.completions.create(\n",
    "    model=\"information-extract\",\n",
    "    messages=[\n",
    "        {\n",
    "            \"role\": \"user\",\n",
    "            \"content\": [\n",
    "                {\n",
    "                    \"type\": \"image_url\",\n",
    "                    \"image_url\": {\"url\": f\"data:image/png;base64,{base64_data}\"}\n",
    "                }\n",
    "            ]\n",
    "        }\n",
    "    ],\n",
    "    response_format={\n",
    "        \"type\": \"json_schema\",\n",
    "        \"json_schema\": {\n",
    "            \"name\": \"document_schema\",\n",
    "            \"schema\": {\n",
    "                \"type\": \"object\",\n",
    "                \"properties\": {\n",
    "                    \"current_cost\": {\n",
    "                        \"type\": \"string\",\n",
    "                        \"description\": \"현재주가\"\n",
    "                    }\n",
    "                },\n",
    "                \"required\": [\"current_cost\"]\n",
    "            }\n",
    "        }\n",
    "    }\n",
    ")\n",
    " \n",
    "print(extraction_response.choices[0].message.content)"
   ]
  },
  {
   "cell_type": "code",
   "execution_count": null,
   "metadata": {},
   "outputs": [],
   "source": []
  }
 ],
 "metadata": {
  "kernelspec": {
   "display_name": "Python 3",
   "language": "python",
   "name": "python3"
  },
  "language_info": {
   "codemirror_mode": {
    "name": "ipython",
    "version": 3
   },
   "file_extension": ".py",
   "mimetype": "text/x-python",
   "name": "python",
   "nbconvert_exporter": "python",
   "pygments_lexer": "ipython3",
   "version": "3.12.4"
  }
 },
 "nbformat": 4,
 "nbformat_minor": 2
}
